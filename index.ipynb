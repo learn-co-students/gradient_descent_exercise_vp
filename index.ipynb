{
 "cells": [
  {
   "cell_type": "markdown",
   "metadata": {},
   "source": [
    "# Gradient Descent Exercise\n",
    "\n",
    "The gradients will continue until morale improves"
   ]
  },
  {
   "cell_type": "markdown",
   "metadata": {},
   "source": [
    "## Theory questions\n",
    "\n",
    "#### 1) What is a loss function?\n",
    "\n",
    "#### 2) What is the loss function for SSE OLS regression?\n",
    "\n",
    "#### 3) What is the loss function for Logistic Regression?"
   ]
  },
  {
   "cell_type": "code",
   "execution_count": null,
   "metadata": {},
   "outputs": [],
   "source": [
    "#Write your answers here"
   ]
  },
  {
   "cell_type": "markdown",
   "metadata": {},
   "source": [
    "## Calculating a loss function for a simple regression model"
   ]
  },
  {
   "cell_type": "markdown",
   "metadata": {},
   "source": [
    "For this example, we'll import a series of 300 points from the data folder as an `X` feature, and another series of 300 points as a `y` target"
   ]
  },
  {
   "cell_type": "code",
   "execution_count": 251,
   "metadata": {},
   "outputs": [],
   "source": [
    "#run this cell as-is\n",
    "\n",
    "#used for testing\n",
    "from test_scripts.test_class import Test\n",
    "test = Test()\n",
    "\n",
    "#data manip\n",
    "import numpy as np\n",
    "\n",
    "#data import\n",
    "X = test.load_ind('X')\n",
    "y = test.load_ind('y')"
   ]
  },
  {
   "cell_type": "markdown",
   "metadata": {},
   "source": [
    "### Calculate the change in the loss function for a simple regression model, $y = \\beta  x + b$, as we step down the gradient once from an initial guess of 3 for $\\beta$ and 1 for $b$\n",
    "\n",
    "\n",
    "#### First, set up\n",
    "- define n as 300\n",
    "- define `beta` and `n` as initial guesses of 3 and 1, respectively\n",
    "- assign the loss function to `loss` using `y`, `X`, `n`, `beta` and `b`\n",
    "  - note: go ahead and multiply the denominator by 2 to cancel the partial derivative exponent step coming up"
   ]
  },
  {
   "cell_type": "code",
   "execution_count": 33,
   "metadata": {},
   "outputs": [],
   "source": [
    "n = 300\n",
    "b = 1\n",
    "beta = 3\n",
    "\n",
    "loss = #your code here"
   ]
  },
  {
   "cell_type": "markdown",
   "metadata": {},
   "source": [
    "### Now, calculate\n",
    "\n",
    "- determine the partial derivatives for `beta` and `b`"
   ]
  },
  {
   "cell_type": "code",
   "execution_count": null,
   "metadata": {},
   "outputs": [],
   "source": [
    "beta_deriv = #your code here\n",
    "b_deriv = #your code here"
   ]
  },
  {
   "cell_type": "markdown",
   "metadata": {},
   "source": [
    "- re-define `beta` and `b` by \"stepping down the gradient\" - ie, subtract their respective partial derivatives from themselves"
   ]
  },
  {
   "cell_type": "code",
   "execution_count": 1,
   "metadata": {},
   "outputs": [],
   "source": [
    "# Using the whiteboard, draw a plot that explains why we subtract the partial derivative from the original value."
   ]
  },
  {
   "cell_type": "code",
   "execution_count": 153,
   "metadata": {},
   "outputs": [],
   "source": [
    "beta = #your code here\n",
    "b = #your code here"
   ]
  },
  {
   "cell_type": "code",
   "execution_count": 32,
   "metadata": {},
   "outputs": [],
   "source": [
    "#run this cell to test your work!\n",
    "\n",
    "print('test for beta:')\n",
    "test.run_test(beta, \"beta\")\n",
    "print()\n",
    "print('test for b:')\n",
    "test.run_test(b, \"b\")"
   ]
  },
  {
   "cell_type": "markdown",
   "metadata": {},
   "source": [
    "- does `y = original_beta * X + original_b` have a smaller loss function value than `y = updated_beta * X + new_b`?"
   ]
  },
  {
   "cell_type": "code",
   "execution_count": null,
   "metadata": {},
   "outputs": [],
   "source": [
    "loss_original = #your code here\n",
    "\n",
    "loss_current = #your code here"
   ]
  },
  {
   "cell_type": "markdown",
   "metadata": {},
   "source": [
    "#### Now, do this 10 more times!\n",
    "\n",
    "- Put the machinery to calculate a new `beta` and `b` you've created inside of a function\n",
    "  - The function should take as inputs `beta`, `b`, `X`, and `y`\n",
    "  - (`X` and `y` should have default values)\n",
    "  - calculate the partial derivative of the loss function for `beta`\n",
    "  - calculate the partial derivative of the loss function for `b`\n",
    "  - subtract their respective partial derivatives from `beta` and `b`\n",
    "  - return updated `beta` and `b`\n",
    "\n",
    "\n",
    "- Put the function inside of a loop which runs 10 times\n",
    "\n",
    "- Calculate `beta` and `b`, starting with `beta`=3 and `b`=1, after 10 \"steps down the gradient\"\n",
    "\n",
    "- What does it look like the final `y = mx + b` equation should be?"
   ]
  },
  {
   "cell_type": "code",
   "execution_count": null,
   "metadata": {},
   "outputs": [],
   "source": [
    "#Your work here"
   ]
  },
  {
   "cell_type": "code",
   "execution_count": 276,
   "metadata": {},
   "outputs": [],
   "source": [
    "#run this cell to test your work!\n",
    "\n",
    "print('test for beta:')\n",
    "test.run_test(beta, \"beta_10\")\n",
    "print()\n",
    "print('test for b:')\n",
    "test.run_test(b, \"b_10\")"
   ]
  },
  {
   "cell_type": "code",
   "execution_count": null,
   "metadata": {},
   "outputs": [],
   "source": [
    "#Your work here"
   ]
  }
 ],
 "metadata": {
  "kernelspec": {
   "display_name": "Python 3",
   "language": "python",
   "name": "python3"
  },
  "language_info": {
   "codemirror_mode": {
    "name": "ipython",
    "version": 3
   },
   "file_extension": ".py",
   "mimetype": "text/x-python",
   "name": "python",
   "nbconvert_exporter": "python",
   "pygments_lexer": "ipython3",
   "version": "3.8.5"
  }
 },
 "nbformat": 4,
 "nbformat_minor": 4
}
